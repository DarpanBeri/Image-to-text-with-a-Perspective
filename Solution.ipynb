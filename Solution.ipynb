{
 "cells": [
  {
   "cell_type": "markdown",
   "metadata": {},
   "source": [
    "# Image to Text with a Perspective! (pun intended)\n",
    "\n",
    "# Darpan Beri\n",
    "\n",
    "# dberi@sdsu.edu"
   ]
  },
  {
   "cell_type": "markdown",
   "metadata": {},
   "source": [
    "### Task:\n",
    "\n",
    "#### - Un-tilt a rectangle in a image in a way to make the text inside the rectangle well processable by OCR software.\n",
    "\n",
    "#### - Bonus: Process and print the result by an OCR software.\n",
    "\n",
    "### My Approach:\n",
    "\n",
    "#### 1. Rotate the rectangle by applying Affine Transformation.\n",
    "\n",
    "#### 2. Using Edge Detection, perform a Perspective Transfromation on the rectangle to make it well processable.\n",
    "\n",
    "#### 3. Bonus: Process and print the result using pytesseract."
   ]
  },
  {
   "cell_type": "code",
   "execution_count": 1,
   "metadata": {},
   "outputs": [],
   "source": [
    "# Image Transformation Libraries\n",
    "import cv2\n",
    "import numpy as np\n",
    "import matplotlib.pyplot as plt\n",
    "import imutils\n",
    "\n",
    "# OCR Libraries\n",
    "try:\n",
    "    from PIL import Image\n",
    "except ImportError:\n",
    "    import Image\n",
    "import pytesseract"
   ]
  },
  {
   "cell_type": "markdown",
   "metadata": {},
   "source": [
    "## 1. Rotating the Rectangle"
   ]
  },
  {
   "cell_type": "code",
   "execution_count": 2,
   "metadata": {},
   "outputs": [],
   "source": [
    "def RotateImg(path):\n",
    "    \"\"\"\n",
    "    Rotates an image by applying Affine Transformation.\n",
    "    \n",
    "    Args:\n",
    "        path: A String representing a path to an image.\n",
    "    \n",
    "    Returns:\n",
    "        A Numpy array representing the read image.\n",
    "    \"\"\"\n",
    "    image = cv2.imread(path)  # Read the image\n",
    "\n",
    "    gray = cv2.cvtColor(image, cv2.COLOR_BGR2GRAY)  # Convert the image to grayscale\n",
    "\n",
    "    thresh = cv2.threshold(gray, 140, 255,\n",
    "                           cv2.THRESH_BINARY + cv2.THRESH_OTSU)[1]  # Threshold the image to invert and contrast colors\n",
    "\n",
    "    coords = np.column_stack(np.where(thresh > 0))  # Grab x,y coordinates of all pixel values > 0\n",
    "    \n",
    "    angle = cv2.minAreaRect(coords)[-1]  # Compute a rotated bounding box\n",
    "\n",
    "    if angle < -45:  # Special case value of angle as the rectangle rotates clockwise\n",
    "        angle = -(90 + angle)\n",
    "    else:  # Ensuring that the angle is positive\n",
    "        angle = -angle\n",
    "\n",
    "    # Applying affine transformation\n",
    "    (h, w) = image.shape[:2]\n",
    "    center = (w // 2, h // 2)\n",
    "    M = cv2.getRotationMatrix2D(center, angle, 1.0)\n",
    "    rotated = cv2.warpAffine(image, M, (w, h),\n",
    "                             flags=cv2.INTER_CUBIC,\n",
    "                             borderMode=cv2.BORDER_REPLICATE)\n",
    "\n",
    "    return rotated"
   ]
  },
  {
   "cell_type": "markdown",
   "metadata": {},
   "source": [
    "## 2. Perspective Transformation Code"
   ]
  },
  {
   "cell_type": "code",
   "execution_count": 3,
   "metadata": {},
   "outputs": [],
   "source": [
    "def order_points(pts):\n",
    "    \"\"\"\n",
    "    Orders a Numpy array according to the visual locations of\n",
    "    the (x,y) coordinates in an image.\n",
    "    \n",
    "    Args:\n",
    "        pts: A Numpy array of four points specifying the \n",
    "            (x,y) coordinates of each point of the rectangle.\n",
    "    \n",
    "    Returns:\n",
    "        A Numpy array of the points ordered according to their\n",
    "        visual location in the image.\n",
    "    \"\"\"\n",
    "    rect = np.zeros((4, 2), dtype=\"float32\")  # Initializing a list of coordinates \n",
    "    \n",
    "    s = pts.sum(axis=1)\n",
    "    rect[0] = pts[np.argmin(s)]  # The smallest sum\n",
    "    rect[2] = pts[np.argmax(s)]  # The largest sum\n",
    "    \n",
    "    diff = np.diff(pts, axis=1)  # The differences between the points\n",
    "    rect[1] = pts[np.argmin(diff)]  # The smallest difference\n",
    "    rect[3] = pts[np.argmax(diff)]  # The largest difference\n",
    "    \n",
    "    return rect"
   ]
  },
  {
   "cell_type": "code",
   "execution_count": 4,
   "metadata": {},
   "outputs": [],
   "source": [
    "def four_point_transform(image, pts):\n",
    "    \"\"\"\n",
    "    Calculates and performs Perspective Transformation on an image.\n",
    "    \n",
    "    Args:\n",
    "        image: A numpy array representing the read image.\n",
    "        pts: A Numpy array of four points specifying the \n",
    "            (x,y) coordinates of each point of the rectangle.\n",
    "    \n",
    "    Returns:\n",
    "        A Numpy array representing an image.\n",
    "    \"\"\"\n",
    "    rect = order_points(pts)  # Obtain a consistent order of the points\n",
    "    (tl, tr, br, bl) = rect\n",
    "\n",
    "    widthA = np.sqrt(((br[0] - bl[0]) ** 2) + ((br[1] - bl[1]) ** 2))\n",
    "    widthB = np.sqrt(((tr[0] - tl[0]) ** 2) + ((tr[1] - tl[1]) ** 2))\n",
    "    maxWidth = max(int(widthA), int(widthB))  # Obtain the width of the new image\n",
    "\n",
    "    heightA = np.sqrt(((tr[0] - br[0]) ** 2) + ((tr[1] - br[1]) ** 2))\n",
    "    heightB = np.sqrt(((tl[0] - bl[0]) ** 2) + ((tl[1] - bl[1]) ** 2))\n",
    "    maxHeight = max(int(heightA), int(heightB))  # Obtain the height of the new image\n",
    "\n",
    "    dst = np.array([  # Destination points for the Perspective Transformation\n",
    "        [0, 0],\n",
    "        [maxWidth - 1, 0],\n",
    "        [maxWidth - 1, maxHeight - 1],\n",
    "        [0, maxHeight - 1]], dtype=\"float32\")\n",
    "\n",
    "    M = cv2.getPerspectiveTransform(rect, dst)\n",
    "    warped = cv2.warpPerspective(image, M, (maxWidth, maxHeight)) # Applying Perspective Transformation\n",
    "\n",
    "    # return the warped image\n",
    "    \n",
    "    return warped"
   ]
  },
  {
   "cell_type": "code",
   "execution_count": 5,
   "metadata": {},
   "outputs": [],
   "source": [
    "def EdgeImage(image):\n",
    "    \"\"\"\n",
    "    Converts an image to grayscale, applies Gaussian Blur,\n",
    "    and finds edges in the image.\n",
    "    \n",
    "    Args:\n",
    "        image: A Numpy array representing an image.\n",
    "    \n",
    "    Returns:\n",
    "        A Numpy array representing an image.\n",
    "    \"\"\"\n",
    "    gray = cv2.cvtColor(image, cv2.COLOR_BGR2GRAY) # Grayscale\n",
    "    gray = cv2.GaussianBlur(gray, (5, 5), 0) # Gaussian Blur\n",
    "    edged = cv2.Canny(gray, 75, 200) # Canny Edge Detection\n",
    "    \n",
    "    return edged"
   ]
  },
  {
   "cell_type": "code",
   "execution_count": 6,
   "metadata": {},
   "outputs": [],
   "source": [
    "def WarpImg(image):\n",
    "    \"\"\"\n",
    "    Finds the rectangle in an image and crops it to aid\n",
    "    OCR detection.\n",
    "    \n",
    "    Args:\n",
    "        image: A Numpy array representing an image.\n",
    "    \n",
    "    Returns:\n",
    "        A Numpy array representing an image.\n",
    "    \"\"\"\n",
    "    edged = EdgeImage(image)\n",
    "\n",
    "    cnts = cv2.findContours(edged.copy(),  # Finding Contours\n",
    "                            cv2.RETR_LIST, cv2.CHAIN_APPROX_SIMPLE)\n",
    "    cnts = imutils.grab_contours(cnts)\n",
    "    cnts = sorted(cnts, key=cv2.contourArea, reverse=True)[:5]\n",
    "\n",
    "    for c in cnts:\n",
    "        peri = cv2.arcLength(c, True)\n",
    "        approx = cv2.approxPolyDP(c, 0.02*peri, True)  # Approximating Contours\n",
    "\n",
    "        if len(approx) == 4:  # Rectangle found\n",
    "            screenCnt = approx\n",
    "            break\n",
    "\n",
    "    warped = four_point_transform(image, screenCnt.reshape(4, 2))  # Perform Perspective Transformation\n",
    "    \n",
    "    h,w,c = warped.shape\n",
    "    if h > w:\n",
    "        warped = cv2.rotate(warped, cv2.ROTATE_90_COUNTERCLOCKWISE)\n",
    "    \n",
    "    return warped"
   ]
  },
  {
   "cell_type": "markdown",
   "metadata": {},
   "source": [
    "## 3. Optical Character Recognition"
   ]
  },
  {
   "cell_type": "code",
   "execution_count": 7,
   "metadata": {
    "scrolled": true
   },
   "outputs": [],
   "source": [
    "def OCR(path):\n",
    "    \"\"\"\n",
    "    Perfroms Optical Character Recognition(OCR) using pytesseract.\n",
    "    \n",
    "    Args:\n",
    "        path: A string representing path to an image.\n",
    "    \n",
    "    Returns:\n",
    "        A String containing OCR's result at understanding \n",
    "        text from an image.\n",
    "    \"\"\"\n",
    "    img = Image.open(path).convert('L')\n",
    "    ret, img = cv2.threshold(np.array(img),  # # Thresholding the image to increase accuracy\n",
    "                             125, 255, cv2.THRESH_BINARY + cv2.THRESH_OTSU)\n",
    "\n",
    "    return pytesseract.image_to_string(img)"
   ]
  },
  {
   "cell_type": "markdown",
   "metadata": {},
   "source": [
    "## Driver Code"
   ]
  },
  {
   "cell_type": "code",
   "execution_count": 8,
   "metadata": {},
   "outputs": [],
   "source": [
    "from os import listdir\n",
    "from os.path import isfile, join"
   ]
  },
  {
   "cell_type": "code",
   "execution_count": 9,
   "metadata": {},
   "outputs": [
    {
     "name": "stdout",
     "output_type": "stream",
     "text": [
      "Original Image of cv2.png\n"
     ]
    },
    {
     "data": {
      "image/png": "[encoded data removed]",
      "text/plain": [
       "<Figure size 432x288 with 1 Axes>"
      ]
     },
     "metadata": {
      "needs_background": "light"
     },
     "output_type": "display_data"
    },
    {
     "name": "stdout",
     "output_type": "stream",
     "text": [
      "Fixed image\n"
     ]
    },
    {
     "data": {
      "image/png": "[encoded data removed]",
      "text/plain": [
       "<Figure size 432x288 with 1 Axes>"
      ]
     },
     "metadata": {
      "needs_background": "light"
     },
     "output_type": "display_data"
    },
    {
     "name": "stdout",
     "output_type": "stream",
     "text": [
      "\n",
      "Original Image of cv3.png\n"
     ]
    },
    {
     "data": {
      "image/png": "[encoded data removed]",
      "text/plain": [
       "<Figure size 432x288 with 1 Axes>"
      ]
     },
     "metadata": {
      "needs_background": "light"
     },
     "output_type": "display_data"
    },
    {
     "name": "stdout",
     "output_type": "stream",
     "text": [
      "Fixed image\n"
     ]
    },
    {
     "data": {
      "image/png": "[encoded data removed]",
      "text/plain": [
       "<Figure size 432x288 with 1 Axes>"
      ]
     },
     "metadata": {
      "needs_background": "light"
     },
     "output_type": "display_data"
    },
    {
     "name": "stdout",
     "output_type": "stream",
     "text": [
      "\n",
      "Original Image of cv1.png\n"
     ]
    },
    {
     "data": {
      "image/png": "[encoded data removed]",
      "text/plain": [
       "<Figure size 432x288 with 1 Axes>"
      ]
     },
     "metadata": {
      "needs_background": "light"
     },
     "output_type": "display_data"
    },
    {
     "name": "stdout",
     "output_type": "stream",
     "text": [
      "Fixed image\n"
     ]
    },
    {
     "data": {
      "image/png": "[encoded data removed]",
      "text/plain": [
       "<Figure size 432x288 with 1 Axes>"
      ]
     },
     "metadata": {
      "needs_background": "light"
     },
     "output_type": "display_data"
    },
    {
     "name": "stdout",
     "output_type": "stream",
     "text": [
      "\n"
     ]
    }
   ],
   "source": [
    "images = [f for f in listdir('Data/') if isfile(join('Data/',f))]\n",
    "\n",
    "for i in range(len(images)):\n",
    "    path = 'Data/'+images[i]\n",
    "    print('Original Image of ' + images[i])\n",
    "    image = cv2.imread(path)\n",
    "    plt.imshow(image, interpolation = 'bicubic')\n",
    "    plt.show()\n",
    "    \n",
    "    temp = RotateImg(path)  # Step 1\n",
    "    fixed = WarpImg(temp)  # Step 2\n",
    "    cv2.imwrite('Fixed_data/'+images[i][:-4]+'_fixed.png', fixed)\n",
    "    print('Fixed image')\n",
    "    plt.imshow(fixed, interpolation = 'bicubic')\n",
    "    plt.show()\n",
    "    print()"
   ]
  },
  {
   "cell_type": "code",
   "execution_count": 10,
   "metadata": {},
   "outputs": [
    {
     "name": "stdout",
     "output_type": "stream",
     "text": [
      "\n",
      "OCR for cv2_fixed.png\n",
      "This is NM782519.\n",
      "\n",
      "OCR for cv1_fixed.png\n",
      "This is NM782519.\n",
      "\n",
      "OCR for cv3_fixed.png\n",
      "DEC Alpha 21264\n",
      "\n",
      "Packaged in Philippines\n",
      "\n"
     ]
    }
   ],
   "source": [
    "fixedImages = [f for f in listdir('Fixed_data/') if isfile(join('Fixed_data/',f))]\n",
    "print()\n",
    "\n",
    "# OCR for all the fixed images\n",
    "for i in range(len(fixedImages)):\n",
    "    print('OCR for ' + fixedImages[i])\n",
    "    path = 'Fixed_data/'+str(fixedImages[i])\n",
    "    print(OCR(path))  # Step 3\n",
    "    print()"
   ]
  },
  {
   "cell_type": "markdown",
   "metadata": {},
   "source": [
    "## The End"
   ]
  }
 ],
 "metadata": {
  "kernelspec": {
   "display_name": "Python 3",
   "language": "python",
   "name": "python3"
  },
  "language_info": {
   "codemirror_mode": {
    "name": "ipython",
    "version": 3
   },
   "file_extension": ".py",
   "mimetype": "text/x-python",
   "name": "python",
   "nbconvert_exporter": "python",
   "pygments_lexer": "ipython3",
   "version": "3.7.3"
  }
 },
 "nbformat": 4,
 "nbformat_minor": 2
}
